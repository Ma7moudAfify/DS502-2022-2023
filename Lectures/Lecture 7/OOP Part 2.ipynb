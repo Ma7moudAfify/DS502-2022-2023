{
  "nbformat": 4,
  "nbformat_minor": 0,
  "metadata": {
    "colab": {
      "provenance": []
    },
    "kernelspec": {
      "name": "python3",
      "display_name": "Python 3"
    },
    "language_info": {
      "name": "python"
    }
  },
  "cells": [
    {
      "cell_type": "code",
      "execution_count": null,
      "metadata": {
        "id": "e_jYJyOQ9oBL",
        "colab": {
          "base_uri": "https://localhost:8080/"
        },
        "outputId": "f04c74d8-d4a7-42d3-baf4-73bd41e88487"
      },
      "outputs": [
        {
          "output_type": "stream",
          "name": "stdout",
          "text": [
            "[mohammed None [] [], ]\n",
            "ahmed 1999 [mohammed None [] [], ] []\n",
            "mohammed None [] ['DS_group']\n",
            "mahmmoud 2000 [] []\n"
          ]
        }
      ],
      "source": [
        "class FaceBookAccount:\n",
        "  def __init__(self, user_name, password, birth_year=None):\n",
        "    self.user_name=user_name\n",
        "    self.password=password\n",
        "    self.birth_year=birth_year\n",
        "    self.friends=[]\n",
        "    self.groups=[]\n",
        "\n",
        "  def add_friend(self, friend_account):\n",
        "    self.friends.append(friend_account)\n",
        "\n",
        "  def create_group(self, gp_name):\n",
        "    self.groups.append(gp_name)\n",
        "  \n",
        "  @classmethod\n",
        "  def create_account(cls, user_name, password, birth_year=None):\n",
        "    return cls(user_name, password, birth_year)\n",
        "\n",
        "  def list_2_str(l):\n",
        "    s='['\n",
        "    for x in l:\n",
        "      s+=x.__str__()\n",
        "      s+=', '\n",
        "    s+=']'\n",
        "    return s\n",
        "\n",
        "  def __str__(self):\n",
        "    return self.user_name + ' ' + str(self.birth_year) + ' ' + FaceBookAccount.list_2_str(self.friends) + ' ' + str(self.groups)\n",
        "\n",
        "  \n",
        "\n",
        "ahmed_account=FaceBookAccount('ahmed', '123', 1999)\n",
        "mohammed_account=FaceBookAccount('mohammed', 'asd')\n",
        "mahmoud_account=FaceBookAccount.create_account('mahmmoud', '456', 2000)\n",
        "\n",
        "\n",
        "ahmed_account.add_friend(mohammed_account)\n",
        "print(FaceBookAccount.list_2_str(ahmed_account.friends))\n",
        "print(ahmed_account)\n",
        "mohammed_account.create_group('DS_group')\n",
        "print(mohammed_account)\n",
        "print(mahmoud_account)\n",
        "\n",
        "\n",
        " "
      ]
    },
    {
      "cell_type": "code",
      "source": [
        "class Employee:\n",
        "  company_name='IT Co'\n",
        "  def __init__(self, name, dept, salary, address=None):\n",
        "       self.name=name\n",
        "       self.dept=dept\n",
        "       self.salary=salary\n",
        "       self.address=address\n",
        " \n",
        " \n",
        "  def __str__(self):\n",
        "    return self.name + ' ' + self.dept + ' ' + str(self.salary)+ ' ' + str(self.address)\n",
        "\n",
        "  def add_bonus(self, bonus):\n",
        "    self.salary=self.salary+ bonus\n",
        "  \n",
        "  def change_dept(self, dept):\n",
        "    self.dept=dept\n",
        "\n",
        "  @classmethod\n",
        "  def change_company_name(cls, co_name):\n",
        "    cls.company_name=co_name\n",
        "  \n",
        "\n",
        "  @classmethod\n",
        "  def add_new_employee(cls, name, dept, salary, address=None):\n",
        "    return cls(name, dept, salary, address)\n",
        "\n",
        "\n",
        "e1=Employee('ahmed', 'CS', 2000)\n",
        "print(e1)\n",
        "\n",
        "e2=Employee.add_new_employee('mohammed', 'DS', 3000)\n",
        "print(e2)\n",
        "\n",
        "print(e1.company_name)\n",
        "print(e2.company_name)\n",
        "\n",
        "Employee.change_company_name('DS Co.')\n",
        "print(e1.company_name)\n",
        "print(e2.company_name)"
      ],
      "metadata": {
        "colab": {
          "base_uri": "https://localhost:8080/"
        },
        "id": "XhEEEqFLFj1k",
        "outputId": "570b8ca8-de44-49ff-fc1f-8ca19e4e5037"
      },
      "execution_count": null,
      "outputs": [
        {
          "output_type": "stream",
          "name": "stdout",
          "text": [
            "ahmed CS 2000 None\n",
            "mohammed DS 3000 None\n",
            "IT Co\n",
            "IT Co\n",
            "DS Co.\n",
            "DS Co.\n"
          ]
        }
      ]
    },
    {
      "cell_type": "markdown",
      "metadata": {
        "id": "vc7H-gW-4hc4"
      },
      "source": [
        "# <font color=red> Example\n",
        "Write Python Program to Simulate a Bank Account with Support for deposit_money, withdraw_money and show_balance Operations.\n"
      ]
    },
    {
      "cell_type": "code",
      "execution_count": null,
      "metadata": {
        "colab": {
          "base_uri": "https://localhost:8080/"
        },
        "id": "DX__UOS2-wbl",
        "outputId": "92ef78f0-42c0-4934-f404-3c9e71bd2b41"
      },
      "outputs": [
        {
          "name": "stdout",
          "output_type": "stream",
          "text": [
            "ahmed, you balance now is: 2000\n"
          ]
        }
      ],
      "source": [
        "class BankAccount:\n",
        "  def __init__(self, user_name, balance):\n",
        "    self.user_name=user_name\n",
        "    self.balance=balance\n",
        "  \n",
        "  def deposite_money(self, money):\n",
        "    self.balance+=money\n",
        "    print(\"{}, you balance now is: {}\".format(self.user_name, self.balance))\n",
        "    \n",
        "  def withdraw_money(self, money):\n",
        "    if self.balance>=money:\n",
        "      balance-=money\n",
        "      print(\"{} has withdrawn {}\".format(self.user_name, self.balance))\n",
        "      return\n",
        "    print(\"Sorry, {}, your balance in not sufficient\".format(self.user_name))\n",
        "\n",
        "\n",
        "client1=BankAccount('ahmed', 1000)\n",
        "client1.deposite_money(1000)\n"
      ]
    },
    {
      "cell_type": "markdown",
      "source": [
        "# <font color='Yellow'> Big Problem:\n",
        "\n",
        "- Modify instance and class attribute from outside the class\n"
      ],
      "metadata": {
        "id": "eRsBt2WFQzLM"
      }
    },
    {
      "cell_type": "code",
      "source": [
        "class Student:\n",
        "  def __init__(self, final_exam_marks={}, id=0):\n",
        "    self.final_exam_marks=final_exam_marks\n",
        "    self.id=id\n",
        "\n",
        "\n",
        "ah_marks={'ds500': 60, 'ds501':60, 'ds502':60}\n",
        "ahmed=Student(ah_marks)\n",
        "print(ahmed.final_exam_marks)\n",
        "ahmed.final_exam_marks={'ds500': 100, 'ds501':100, 'ds502':100}\n",
        "\n",
        "print(ahmed.final_exam_marks)\n",
        "#print(ahmed.__dict__)"
      ],
      "metadata": {
        "colab": {
          "base_uri": "https://localhost:8080/"
        },
        "id": "l5y-fmb-Q3If",
        "outputId": "fb0d60a6-ddeb-48a9-8767-9f596d29187a"
      },
      "execution_count": null,
      "outputs": [
        {
          "output_type": "stream",
          "name": "stdout",
          "text": [
            "{'ds500': 60, 'ds501': 60, 'ds502': 60}\n",
            "{'ds500': 100, 'ds501': 100, 'ds502': 100}\n"
          ]
        }
      ]
    },
    {
      "cell_type": "markdown",
      "source": [
        "### <font color=blue>Another Example"
      ],
      "metadata": {
        "id": "2SVL1YYa7f8P"
      }
    },
    {
      "cell_type": "code",
      "source": [
        "class Circle:\n",
        "  def __init__(self, radius):\n",
        "    self.radius=radius\n",
        " \n",
        "  def cal_area(self):\n",
        "    return 3.14*self.radius**2\n",
        "\n",
        "c=Circle(5)\n",
        "print(c.cal_area())\n",
        "c.radius=-5\n",
        "print(c.cal_area())\n"
      ],
      "metadata": {
        "colab": {
          "base_uri": "https://localhost:8080/"
        },
        "id": "HDaz_Ekz7hU0",
        "outputId": "5b40a025-eee4-47f3-ceff-10e7832d5761"
      },
      "execution_count": null,
      "outputs": [
        {
          "output_type": "stream",
          "name": "stdout",
          "text": [
            "78.5\n",
            "78.5\n"
          ]
        }
      ]
    },
    {
      "cell_type": "markdown",
      "source": [
        "## That is why we need to <font color='red'>Encapsulation\n",
        "\n",
        "# <font color=yellow> Encapsulation\n",
        "\n",
        "- In Encapsulation, the variables are not accessed directly; it is accessed through the methods present in the class. \n",
        "\n",
        "- Encapsulation ensures that the object’s internal representation (its state and behavior) are hidden from the rest of the application.\n",
        "\n",
        "- Thus, encapsulation makes the concept of data hiding possible.\n"
      ],
      "metadata": {
        "id": "msICf22VQmif"
      }
    },
    {
      "cell_type": "markdown",
      "source": [
        "#<font color=red>First Solution \n",
        "- All Python fields are public. It doesn’t support any other access modier.\n",
        "\n",
        "- As a naming convention, \n",
        "\n",
        ">> - python fields  starts with <font color=red>**\\_\\_**</font> to let developers deal with them as **private fields**.\n",
        "\n",
        ">>>>>  **Private fields** are fields that can be accessed only **inside the class**.\n",
        "\n",
        ">>- python fields  starts with <font color=red>**\\_**</font> to let developers deal with them as **protected fields**.\n",
        "\n",
        ">>>>>  **protected fields** are only accessible to its **child** (sub) classes.\n",
        "\n",
        "\n",
        "\n"
      ],
      "metadata": {
        "id": "GCTXjNY_RHn2"
      }
    },
    {
      "cell_type": "code",
      "source": [
        "class Student:\n",
        "  def __init__(self, final_exam_marks={}, id=0):\n",
        "    self.__final_exam_marks=final_exam_marks\n",
        "    self.__id=id\n",
        "\n",
        "\n",
        "ah_marks={'ds500': 60, 'ds501':60, 'ds502':60}\n",
        "ahmed=Student(ah_marks)\n",
        "\n",
        "print(ahmed.final_exam_marks)\n",
        "ahmed.final_exam_marks={'ds500': 100, 'ds501':100, 'ds502':100}\n",
        "\n",
        "print(ahmed.final_exam_marks)\n",
        "#print(ahmed.__dict__)"
      ],
      "metadata": {
        "colab": {
          "base_uri": "https://localhost:8080/",
          "height": 237
        },
        "id": "bLCUpri1PFue",
        "outputId": "a7e29cba-ea93-45b5-8522-8ac465ca2287"
      },
      "execution_count": null,
      "outputs": [
        {
          "output_type": "error",
          "ename": "AttributeError",
          "evalue": "ignored",
          "traceback": [
            "\u001b[0;31m---------------------------------------------------------------------------\u001b[0m",
            "\u001b[0;31mAttributeError\u001b[0m                            Traceback (most recent call last)",
            "\u001b[0;32m<ipython-input-34-5bed7a106ef7>\u001b[0m in \u001b[0;36m<module>\u001b[0;34m\u001b[0m\n\u001b[1;32m      7\u001b[0m \u001b[0mah_marks\u001b[0m\u001b[0;34m=\u001b[0m\u001b[0;34m{\u001b[0m\u001b[0;34m'ds500'\u001b[0m\u001b[0;34m:\u001b[0m \u001b[0;36m60\u001b[0m\u001b[0;34m,\u001b[0m \u001b[0;34m'ds501'\u001b[0m\u001b[0;34m:\u001b[0m\u001b[0;36m60\u001b[0m\u001b[0;34m,\u001b[0m \u001b[0;34m'ds502'\u001b[0m\u001b[0;34m:\u001b[0m\u001b[0;36m60\u001b[0m\u001b[0;34m}\u001b[0m\u001b[0;34m\u001b[0m\u001b[0;34m\u001b[0m\u001b[0m\n\u001b[1;32m      8\u001b[0m \u001b[0mahmed\u001b[0m\u001b[0;34m=\u001b[0m\u001b[0mStudent\u001b[0m\u001b[0;34m(\u001b[0m\u001b[0mah_marks\u001b[0m\u001b[0;34m)\u001b[0m\u001b[0;34m\u001b[0m\u001b[0;34m\u001b[0m\u001b[0m\n\u001b[0;32m----> 9\u001b[0;31m \u001b[0mprint\u001b[0m\u001b[0;34m(\u001b[0m\u001b[0mahmed\u001b[0m\u001b[0;34m.\u001b[0m\u001b[0mfinal_exam_marks\u001b[0m\u001b[0;34m)\u001b[0m\u001b[0;34m\u001b[0m\u001b[0;34m\u001b[0m\u001b[0m\n\u001b[0m\u001b[1;32m     10\u001b[0m \u001b[0mahmed\u001b[0m\u001b[0;34m.\u001b[0m\u001b[0mfinal_exam_marks\u001b[0m\u001b[0;34m=\u001b[0m\u001b[0;34m{\u001b[0m\u001b[0;34m'ds500'\u001b[0m\u001b[0;34m:\u001b[0m \u001b[0;36m100\u001b[0m\u001b[0;34m,\u001b[0m \u001b[0;34m'ds501'\u001b[0m\u001b[0;34m:\u001b[0m\u001b[0;36m100\u001b[0m\u001b[0;34m,\u001b[0m \u001b[0;34m'ds502'\u001b[0m\u001b[0;34m:\u001b[0m\u001b[0;36m100\u001b[0m\u001b[0;34m}\u001b[0m\u001b[0;34m\u001b[0m\u001b[0;34m\u001b[0m\u001b[0m\n\u001b[1;32m     11\u001b[0m \u001b[0;34m\u001b[0m\u001b[0m\n",
            "\u001b[0;31mAttributeError\u001b[0m: 'Student' object has no attribute 'final_exam_marks'"
          ]
        }
      ]
    },
    {
      "cell_type": "markdown",
      "source": [
        "# <font color=gyello>To modify a private attibute, setter and getter functions are used"
      ],
      "metadata": {
        "id": "F1ZnPpUnVCGP"
      }
    },
    {
      "cell_type": "code",
      "source": [
        "#Circle program with private attributes\n",
        "class Circle:\n",
        "  def __init__(self, radius):\n",
        "    self.__radius=radius\n",
        "\n",
        "  def cal_area(self):\n",
        "    return 3.14*self.__radius**2\n",
        "\n",
        "c=Circle(5)\n",
        "print(c.cal_area())\n",
        "print(c.__radius)"
      ],
      "metadata": {
        "colab": {
          "base_uri": "https://localhost:8080/",
          "height": 219
        },
        "id": "-y5KMZnmWGB_",
        "outputId": "7cd1ae02-5ef4-492a-8e45-8d965683c40c"
      },
      "execution_count": null,
      "outputs": [
        {
          "output_type": "stream",
          "name": "stdout",
          "text": [
            "78.5\n"
          ]
        },
        {
          "output_type": "error",
          "ename": "AttributeError",
          "evalue": "ignored",
          "traceback": [
            "\u001b[0;31m---------------------------------------------------------------------------\u001b[0m",
            "\u001b[0;31mAttributeError\u001b[0m                            Traceback (most recent call last)",
            "\u001b[0;32m<ipython-input-47-92c265f57a80>\u001b[0m in \u001b[0;36m<module>\u001b[0;34m\u001b[0m\n\u001b[1;32m      9\u001b[0m \u001b[0mc\u001b[0m\u001b[0;34m=\u001b[0m\u001b[0mCircle\u001b[0m\u001b[0;34m(\u001b[0m\u001b[0;36m5\u001b[0m\u001b[0;34m)\u001b[0m\u001b[0;34m\u001b[0m\u001b[0;34m\u001b[0m\u001b[0m\n\u001b[1;32m     10\u001b[0m \u001b[0mprint\u001b[0m\u001b[0;34m(\u001b[0m\u001b[0mc\u001b[0m\u001b[0;34m.\u001b[0m\u001b[0mcal_area\u001b[0m\u001b[0;34m(\u001b[0m\u001b[0;34m)\u001b[0m\u001b[0;34m)\u001b[0m\u001b[0;34m\u001b[0m\u001b[0;34m\u001b[0m\u001b[0m\n\u001b[0;32m---> 11\u001b[0;31m \u001b[0mprint\u001b[0m\u001b[0;34m(\u001b[0m\u001b[0mc\u001b[0m\u001b[0;34m.\u001b[0m\u001b[0m__radius\u001b[0m\u001b[0;34m)\u001b[0m\u001b[0;34m\u001b[0m\u001b[0;34m\u001b[0m\u001b[0m\n\u001b[0m",
            "\u001b[0;31mAttributeError\u001b[0m: 'Circle' object has no attribute '__radius'"
          ]
        }
      ]
    },
    {
      "cell_type": "code",
      "source": [
        "class Circle:\n",
        "  def __init__(self, radius):\n",
        "    self.__radius=radius\n",
        "\n",
        "  def get_radius(self):\n",
        "    return self.__radius\n",
        "\n",
        "  def set_radius(self, radius):\n",
        "    self.__radius=radius\n",
        "\n",
        "  def cal_area(self):\n",
        "    return 3.14*self.get_radius()**2\n",
        "  \n",
        "c=Circle(5)\n",
        "print(c.cal_area())\n",
        "print(c.get_radius())"
      ],
      "metadata": {
        "colab": {
          "base_uri": "https://localhost:8080/"
        },
        "id": "DmMNepmgRsYX",
        "outputId": "f907bf3a-e52e-44fa-b659-4019d6fb655e"
      },
      "execution_count": null,
      "outputs": [
        {
          "output_type": "stream",
          "name": "stdout",
          "text": [
            "78.5\n",
            "5\n"
          ]
        }
      ]
    },
    {
      "cell_type": "markdown",
      "source": [
        "# <font color=gyello> Setting an attribute value under constraints"
      ],
      "metadata": {
        "id": "e6AEOOt7Z8MB"
      }
    },
    {
      "cell_type": "code",
      "source": [
        "class Circle:\n",
        "    def __init__(self, radius=0):\n",
        "        self.set_radius(radius)\n",
        "        \n",
        "    def get_radius (self):\n",
        "      return self.__radius    \n",
        "    \n",
        "    def set_radius(self, radius):\n",
        "      if radius<0: \n",
        "        print(\"invalid radius value\")\n",
        "        return\n",
        "      self.__radius=radius\n",
        "\n",
        "    def cal_area(self):\n",
        "       return 3.14*self.radius**2\n",
        "\n",
        "c=Circle(5)\n",
        "c.set_radius(24)\n",
        "r=Circle()\n",
        "r.set_radius(-23)\n",
        "print(c.get_radius())\n",
        "print(r.get_radius())"
      ],
      "metadata": {
        "colab": {
          "base_uri": "https://localhost:8080/"
        },
        "id": "bBcqXQJsaChs",
        "outputId": "76971a5c-e6ef-4495-bdf7-606803d7e8eb"
      },
      "execution_count": null,
      "outputs": [
        {
          "output_type": "stream",
          "name": "stdout",
          "text": [
            "invalid radius value\n",
            "24\n",
            "0\n"
          ]
        }
      ]
    },
    {
      "cell_type": "markdown",
      "metadata": {
        "id": "1mjEVE4fUI6G"
      },
      "source": [
        "# <font color=blue>__ fields donnot resolve the problem"
      ]
    },
    {
      "cell_type": "code",
      "execution_count": null,
      "metadata": {
        "colab": {
          "base_uri": "https://localhost:8080/"
        },
        "id": "S_mvdBAdUtV_",
        "outputId": "40edb380-8320-489f-d7c1-512f7099cb3b"
      },
      "outputs": [
        {
          "name": "stdout",
          "output_type": "stream",
          "text": [
            "5\n",
            "{'_Circle__radius': 5}\n"
          ]
        }
      ],
      "source": [
        "class Circle:\n",
        "  def __init__(self, radius):\n",
        "    self.__radius=radius\n",
        "  def get_radius(self): return self.__radius\n",
        "\n",
        "c1=Circle(5)\n",
        "print(c1.get_radius())\n",
        "print(c1.__dict__)"
      ]
    },
    {
      "cell_type": "code",
      "execution_count": null,
      "metadata": {
        "colab": {
          "base_uri": "https://localhost:8080/"
        },
        "id": "wXGk5GLKVBLG",
        "outputId": "e7ee2d8c-4257-4257-f1fc-5b8231f452b7"
      },
      "outputs": [
        {
          "name": "stdout",
          "output_type": "stream",
          "text": [
            "10\n",
            "{'_Circle__radius': 10}\n"
          ]
        }
      ],
      "source": [
        "c1._Circle__radius=10\n",
        "print(c1.get_radius())\n",
        "print(c1.__dict__)"
      ]
    },
    {
      "cell_type": "markdown",
      "metadata": {
        "id": "5u2oiNruKNUM"
      },
      "source": [
        "# <font color=blue>  Example: Trace the following program (Using Objects as Arguments)\n"
      ]
    },
    {
      "cell_type": "code",
      "execution_count": null,
      "metadata": {
        "colab": {
          "base_uri": "https://localhost:8080/"
        },
        "id": "DRM_ZSa6KRI2",
        "outputId": "3a142d29-d1b0-40fa-9aa8-61673812d5b9"
      },
      "outputs": [
        {
          "output_type": "stream",
          "name": "stdout",
          "text": [
            "song is: \"The First Time Ever I Saw Your Face\"\n",
            "Artist is: \"Roberta Flack\"\n"
          ]
        }
      ],
      "source": [
        "class Track:\n",
        "  def __init__(self, song, artist):\n",
        "    self.set_song(song)\n",
        "    self.set_artist(artist)\n",
        "\n",
        "  def get_song(self):\n",
        "    return self.__song\n",
        "\n",
        "\n",
        "  def set_song(self, song):\n",
        "    self.__song=song\n",
        "\n",
        "\n",
        "  def get_artist(self):\n",
        "    return self.__artist\n",
        "\n",
        "\n",
        "  def set_artist(self, artist):\n",
        "    self.__artist=artist  \n",
        "\n",
        "  def print_track_info(vocalist):\n",
        "    print(f'song is: \"{vocalist.get_song()}\"')\n",
        "    print(f'Artist is: \"{vocalist.get_artist()}\"')\n",
        "\n",
        "singer1=Track('The First Time Ever I Saw Your Face', 'Roberta Flack')\n",
        "Track.print_track_info(singer1)"
      ]
    },
    {
      "cell_type": "markdown",
      "metadata": {
        "id": "HIziz25lhwkE"
      },
      "source": [
        "## <font color=red>Example\n",
        "\n",
        "Given a point(x, y), Write Python Program to Find Whether it Lies in the First, Second, Third or Fourth Quadrant of x - y Plane\n"
      ]
    },
    {
      "cell_type": "code",
      "execution_count": null,
      "metadata": {
        "colab": {
          "base_uri": "https://localhost:8080/"
        },
        "id": "tRR6s-QxRuPA",
        "outputId": "f3b98555-6654-4e35-991e-e958e2169589"
      },
      "outputs": [
        {
          "output_type": "stream",
          "name": "stdout",
          "text": [
            "fourth quad\n"
          ]
        }
      ],
      "source": [
        "class Quadrant:\n",
        "  def __init__(self, cord_x, cord_y):\n",
        "    self.set_cord_x(cord_x)\n",
        "    self.set_cord_y(cord_y)\n",
        "\n",
        "  def get_cord_x(self):\n",
        "    return self.__cord_x\n",
        "  \n",
        "  def set_cord_x (self, cord_x):\n",
        "    self.__cord_x=cord_x\n",
        "\n",
        "\n",
        "  def get_cord_y(self):\n",
        "    return self.__cord_y\n",
        "\n",
        "  def set_cord_y (self, cord_y):\n",
        "    self.__cord_y=cord_y\n",
        "\n",
        "\n",
        "  def determine_quadrant(self):\n",
        "    if self.get_cord_x() >0 and self.get_cord_y()>0 :  return \"first quard\"\n",
        "    if self.get_cord_x() <0 and self.get_cord_y()>0 :  return \"second quard\"\n",
        "    if self.get_cord_x() <0 and self.get_cord_y()<0 :  return \"third quard\"\n",
        "    if self.get_cord_x() >0 and self.get_cord_y()<0:   return \"fourth quad\"\n",
        "\n",
        "\n",
        "q1=Quadrant(2, -4)\n",
        "print(q1.determine_quadrant())"
      ]
    },
    {
      "cell_type": "markdown",
      "source": [
        "# <font color=yellow> Inheritance\n",
        "- Inheritance is a way to express is-a relationship between classes. \n",
        "\n",
        "- For example, a Manager is-a human, which is a living organism. postgraduate student is-a college student which is a student. \n",
        "\n",
        "- If the is-a relationship does not exist between a derived class and base class, you should not use inheritance.\n",
        "\n",
        "- A class that is used as the basis for inheritance is called a superclass or base class or parent class. \n",
        "\n",
        "- A class that inherits from a base class is called a subclass or derived class or child class. \n",
        "\n",
        "- A derived class inherits variables and methods from its base class while adding additional variables and methods of its own. \n",
        "\n",
        "- Inheritance easily enables reusing of existing code.\n",
        "\n",
        "- object class is the base of the inheritance hierarchy.\n",
        "\n",
        "- All classes inheret implicitly from the object class\n",
        "\n",
        "##<font color=green> Syntax of child class definintion:\n",
        "\n",
        "       class SubClassName (SuperClassName):\n",
        "\n",
        "<font color=orange>Thus,\n",
        "     \n",
        "       class x:\n",
        "          statement(s)     \n",
        "\n",
        "   <font color=orange> Is equivalent to ⬇\n",
        "\n",
        "      class x (object):\n",
        "         statement(s) \n",
        "\n"
      ],
      "metadata": {
        "id": "gwiE_pVsYz3f"
      }
    },
    {
      "cell_type": "code",
      "source": [
        "class Employee:\n",
        "  def __init__(self, name, dept, job_title):\n",
        "    self.__name=name\n",
        "    self.__dept=dept\n",
        "    self.__job_title=job_title\n",
        "  \n",
        "  def get_name(self):\n",
        "    return self.__name\n",
        " \n",
        "  def set_name(self, name):\n",
        "    self.__name=name\n",
        "\n",
        " \n",
        "  def get_dept(self):\n",
        "    return self.__dept\n",
        " \n",
        "  def set_dept(self, dept):\n",
        "    self.__dept=dept\n",
        "\n",
        "\n",
        "  def get_job_title(self):\n",
        "    return self.__job_title\n",
        " \n",
        "  def set_job_title(self, job_title):\n",
        "    self.__job_title=job_title\n",
        "  \n",
        "  def emp_info(self):\n",
        "    print(self.__name, self.__dept, self.__job_title)\n",
        "\n",
        "class Manager (Employee):\n",
        "    pass  \n",
        "\n",
        "m1=Manager('ahmed', 'maintenance', 'manager')\n",
        "\n",
        "m1.emp_info()\n",
        "\n",
        "print(m1.__dept)"
      ],
      "metadata": {
        "colab": {
          "base_uri": "https://localhost:8080/",
          "height": 219
        },
        "id": "hfjzh2sZYq6g",
        "outputId": "c68ba089-693d-4e3d-bdf7-781d31b75394"
      },
      "execution_count": null,
      "outputs": [
        {
          "output_type": "stream",
          "name": "stdout",
          "text": [
            "ahmed maintenance manager\n"
          ]
        },
        {
          "output_type": "error",
          "ename": "AttributeError",
          "evalue": "ignored",
          "traceback": [
            "\u001b[0;31m---------------------------------------------------------------------------\u001b[0m",
            "\u001b[0;31mAttributeError\u001b[0m                            Traceback (most recent call last)",
            "\u001b[0;32m<ipython-input-68-e3e3ddf45fda>\u001b[0m in \u001b[0;36m<module>\u001b[0;34m\u001b[0m\n\u001b[1;32m     35\u001b[0m \u001b[0mm1\u001b[0m\u001b[0;34m.\u001b[0m\u001b[0memp_info\u001b[0m\u001b[0;34m(\u001b[0m\u001b[0;34m)\u001b[0m\u001b[0;34m\u001b[0m\u001b[0;34m\u001b[0m\u001b[0m\n\u001b[1;32m     36\u001b[0m \u001b[0;34m\u001b[0m\u001b[0m\n\u001b[0;32m---> 37\u001b[0;31m \u001b[0mprint\u001b[0m\u001b[0;34m(\u001b[0m\u001b[0mm1\u001b[0m\u001b[0;34m.\u001b[0m\u001b[0m__dept\u001b[0m\u001b[0;34m)\u001b[0m\u001b[0;34m\u001b[0m\u001b[0;34m\u001b[0m\u001b[0m\n\u001b[0m",
            "\u001b[0;31mAttributeError\u001b[0m: 'Manager' object has no attribute '__dept'"
          ]
        }
      ]
    },
    {
      "cell_type": "markdown",
      "source": [
        "# <font color=gyello>Create subclass constructor"
      ],
      "metadata": {
        "id": "lLKpnra6fykH"
      }
    },
    {
      "cell_type": "code",
      "source": [
        "class Employee:\n",
        "  def __init__(self, name, dept, job_title):\n",
        "    self.__name=name\n",
        "    self.__dept=dept\n",
        "    self.__job_title=job_title\n",
        "  \n",
        "  def get_name(self):\n",
        "    return self.__name\n",
        " \n",
        "  def set_name(self, name):\n",
        "    self.__name=name\n",
        "\n",
        " \n",
        "  def get_dept(self):\n",
        "    return self.__dept\n",
        " \n",
        "  def set_dept(self, dept):\n",
        "    self.__dept=dept\n",
        "\n",
        "\n",
        "  def get_job_title(self):\n",
        "    return self.__job_title\n",
        " \n",
        "  def set_job_title(self, job_title):\n",
        "    self.__job_title=job_title\n",
        "\n",
        "    \n",
        "class Manager (Employee):\n",
        "  def __init__(self, name, dept):\n",
        "    self.__name=name\n",
        "    self.__dept=dept\n",
        "    self.__job_title='manager'\n",
        "     \n",
        "  \n",
        "\n",
        "m1=Manager('ahmed', 'network')\n"
      ],
      "metadata": {
        "id": "ikkqXcjifi_O"
      },
      "execution_count": null,
      "outputs": []
    },
    {
      "cell_type": "markdown",
      "source": [
        "# <font color=gyello>Calling the parent class constructor using </font>super().\\_\\_init\\_\\_(...)"
      ],
      "metadata": {
        "id": "jGjjAfIggri8"
      }
    },
    {
      "cell_type": "code",
      "source": [
        "class Employee:\n",
        "  def __init__(self, name, dept, job_title):\n",
        "    self.__name=name\n",
        "    self.__dept=dept\n",
        "    self.__job_title=job_title\n",
        "  \n",
        "  def get_name(self):\n",
        "    return self.__name\n",
        " \n",
        "  def set_name(self, name):\n",
        "    self.__name=name\n",
        "\n",
        " \n",
        "  def get_dept(self):\n",
        "    return self.__dept\n",
        " \n",
        "  def set_dept(self, dept):\n",
        "    self.__dept=dept\n",
        "\n",
        "\n",
        "  def get_job_title(self):\n",
        "    return self.__job_title\n",
        " \n",
        "  def set_job_title(self, job_title):\n",
        "    self.__job_title=job_title\n",
        "  \n",
        "  def emp_info(self):\n",
        "    print(self.__name, self.__dept, self.__job_title)\n",
        "\n",
        "class Manager (Employee):\n",
        "  def __init__(self,name, dept):\n",
        "    super().__init__(name, dept, 'manager')\n",
        "      \n",
        "\n",
        "m1=Manager('ahmed', 'maintenance')\n",
        "\n",
        "m1.emp_info()\n"
      ],
      "metadata": {
        "colab": {
          "base_uri": "https://localhost:8080/"
        },
        "id": "FzsPNtIRgGTd",
        "outputId": "7947796f-ff6f-4b79-bb7d-4717b37f9437"
      },
      "execution_count": null,
      "outputs": [
        {
          "output_type": "stream",
          "name": "stdout",
          "text": [
            "ahmed maintenance manager\n"
          ]
        }
      ]
    },
    {
      "cell_type": "markdown",
      "source": [
        "# <font color=blue>**Calling the parent class constructor using </font>superclass_name.\\_\\_init\\_\\_(....)**"
      ],
      "metadata": {
        "id": "6HYCBiAJhvSj"
      }
    },
    {
      "cell_type": "code",
      "source": [
        "class Employee:\n",
        "  def __init__(self, name, dept, job_title):\n",
        "    self.__name=name\n",
        "    self.__dept=dept\n",
        "    self.__job_title=job_title\n",
        "  \n",
        "  def get_name(self):\n",
        "    return self.__name\n",
        " \n",
        "  def set_name(self, name):\n",
        "    self.__name=name\n",
        "\n",
        " \n",
        "  def get_dept(self):\n",
        "    return self.__dept\n",
        " \n",
        "  def set_dept(self, dept):\n",
        "    self.__dept=dept\n",
        "\n",
        "\n",
        "  def get_job_title(self):\n",
        "    return self.__job_title\n",
        " \n",
        "  def set_job_title(self, job_title):\n",
        "    self.__job_title=job_title\n",
        "  \n",
        "  def emp_info(self):\n",
        "    print(self.__name, self.__dept, self.__job_title)\n",
        "\n",
        "class Manager (Employee):\n",
        "  def __init__(self,name, dept):\n",
        "    Employee.__init__(self, name, dept, 'manager')\n",
        "      \n",
        "\n",
        "m1=Manager('ahmed', 'maintenance')\n",
        "\n",
        "m1.emp_info()\n"
      ],
      "metadata": {
        "colab": {
          "base_uri": "https://localhost:8080/"
        },
        "id": "JVO9HHmZg7TX",
        "outputId": "cbcea7c6-95e9-4c07-efc6-e2e79ec03ffe"
      },
      "execution_count": null,
      "outputs": [
        {
          "output_type": "stream",
          "name": "stdout",
          "text": [
            "ahmed maintenance manager\n"
          ]
        }
      ]
    },
    {
      "cell_type": "markdown",
      "source": [
        "# <font color=blue> **Defining a subclass instance method**"
      ],
      "metadata": {
        "id": "FLb0yMpPiT91"
      }
    },
    {
      "cell_type": "code",
      "source": [
        "class Employee:\n",
        "  def __init__(self, name, dept, job_title):\n",
        "    self.__name=name\n",
        "    self.__dept=dept\n",
        "    self.__job_title=job_title\n",
        "  \n",
        "  def get_name(self):\n",
        "    return self.__name\n",
        " \n",
        "  def set_name(self, name):\n",
        "    self.__name=name\n",
        "\n",
        " \n",
        "  def get_dept(self):\n",
        "    return self.__dept\n",
        " \n",
        "  def set_dept(self, dept):\n",
        "    self.__dept=dept\n",
        "\n",
        "\n",
        "  def get_job_title(self):\n",
        "    return self.__job_title\n",
        " \n",
        "  def set_job_title(self, job_title):\n",
        "    self.__job_title=job_title\n",
        "  \n",
        "  def emp_info(self):\n",
        "    print(self.__name, self.__dept, self.__job_title)\n",
        "\n",
        "class Manager (Employee):\n",
        "  def __init__(self,name, dept):\n",
        "    Employee.__init__(self, name, dept, 'manager')\n",
        "      \n",
        "\n",
        "  def cal_annual_salary(self):\n",
        "    return (30685)\n",
        "    \n",
        "  \n",
        "\n",
        "m1=Manager('ahmed', 'network')\n",
        "print(m1.cal_annual_salary())"
      ],
      "metadata": {
        "colab": {
          "base_uri": "https://localhost:8080/"
        },
        "id": "RBnq1DH2h529",
        "outputId": "356689e6-f30d-40a7-c2e8-df7f6f36eb9a"
      },
      "execution_count": null,
      "outputs": [
        {
          "output_type": "stream",
          "name": "stdout",
          "text": [
            "30685\n"
          ]
        }
      ]
    },
    {
      "cell_type": "markdown",
      "source": [
        "# <font color=yellow> **Override method**"
      ],
      "metadata": {
        "id": "lNHm2D-4jE1o"
      }
    },
    {
      "cell_type": "code",
      "source": [
        "class Employee:\n",
        "  def __init__(self, name, dept, job_title):\n",
        "    self.__name=name\n",
        "    self.__dept=dept\n",
        "    self.__job_title=job_title\n",
        "  \n",
        "  def get_name(self):\n",
        "    return self.__name\n",
        " \n",
        "  def set_name(self, name):\n",
        "    self.__name=name\n",
        "\n",
        " \n",
        "  def get_dept(self):\n",
        "    return self.__dept\n",
        " \n",
        "  def set_dept(self, dept):\n",
        "    self.__dept=dept\n",
        "\n",
        "\n",
        "  def get_job_title(self):\n",
        "    return self.__job_title\n",
        " \n",
        "  def set_job_title(self, job_title):\n",
        "    self.__job_title=job_title\n",
        "  \n",
        "  def emp_info(self):\n",
        "    print(self.__name, self.__dept, self.__job_title)\n",
        "\n",
        "class Manager (Employee):\n",
        "  def __init__(self,name, dept):\n",
        "    Employee.__init__(self, name, dept, 'manager')\n",
        "      \n",
        "  def emp_info(self):\n",
        "    print(self.get_name(), \"is a manager in \", self.get_dept())\n",
        "    \n",
        "  \n",
        "\n",
        "m1=Manager('ahmed', 'network')\n",
        "\n",
        "m1.emp_info()"
      ],
      "metadata": {
        "colab": {
          "base_uri": "https://localhost:8080/"
        },
        "id": "yx42hN06i_SU",
        "outputId": "81d56061-359d-493a-f14a-6d37035a60f4"
      },
      "execution_count": null,
      "outputs": [
        {
          "output_type": "stream",
          "name": "stdout",
          "text": [
            "ahmed is a manager in  network\n"
          ]
        }
      ]
    },
    {
      "cell_type": "markdown",
      "source": [
        "# <font color=reyellow> **Calling the superclass method in the override method using super().**"
      ],
      "metadata": {
        "id": "DLRsa2cqkHz3"
      }
    },
    {
      "cell_type": "code",
      "source": [
        "class Employee:\n",
        "  def __init__(self, name, dept, job_title):\n",
        "    self.__name=name\n",
        "    self.__dept=dept\n",
        "    self.__job_title=job_title\n",
        "  \n",
        "  def get_name(self):\n",
        "    return self.__name\n",
        " \n",
        "  def set_name(self, name):\n",
        "    self.__name=name\n",
        "\n",
        " \n",
        "  def get_dept(self):\n",
        "    return self.__dept\n",
        " \n",
        "  def set_dept(self, dept):\n",
        "    self.__dept=dept\n",
        "\n",
        "\n",
        "  def get_job_title(self):\n",
        "    return self.__job_title\n",
        " \n",
        "  def set_job_title(self, job_title):\n",
        "    self.__job_title=job_title\n",
        "  \n",
        "  def emp_info(self):\n",
        "    print(self.__name, self.__dept, self.__job_title)\n",
        "\n",
        "class Manager (Employee):\n",
        "  def __init__(self,name, dept):\n",
        "    Employee.__init__(self, name, dept, 'manager')\n",
        "  \n",
        "  def cal_annual_salary(self):\n",
        "    return (30685)\n",
        "\n",
        "  def emp_info(self):\n",
        "    super().emp_info()\n",
        "    print(self.cal_annual_salary())\n",
        "    \n",
        "  \n",
        "\n",
        "m1=Manager('ahmed', 'network')\n",
        "print(m1.emp_info())"
      ],
      "metadata": {
        "colab": {
          "base_uri": "https://localhost:8080/"
        },
        "id": "53y0u0DJjRwO",
        "outputId": "48af64a8-995c-42d9-d7e2-804925b53c5d"
      },
      "execution_count": null,
      "outputs": [
        {
          "output_type": "stream",
          "name": "stdout",
          "text": [
            "ahmed network manager\n",
            "30685\n",
            "None\n"
          ]
        }
      ]
    },
    {
      "cell_type": "markdown",
      "source": [
        "# <font color=reyellow> **Calling the superclass method in the override method </font> Using the Class_Name.**"
      ],
      "metadata": {
        "id": "90wIrFUqlEs6"
      }
    },
    {
      "cell_type": "code",
      "source": [
        "class Employee:\n",
        "  def __init__(self, name, dept, job_title):\n",
        "    self.__name=name\n",
        "    self.__dept=dept\n",
        "    self.__job_title=job_title\n",
        "  \n",
        "  def get_name(self):\n",
        "    return self.__name\n",
        " \n",
        "  def set_name(self, name):\n",
        "    self.__name=name\n",
        "\n",
        " \n",
        "  def get_dept(self):\n",
        "    return self.__dept\n",
        " \n",
        "  def set_dept(self, dept):\n",
        "    self.__dept=dept\n",
        "\n",
        "\n",
        "  def get_job_title(self):\n",
        "    return self.__job_title\n",
        " \n",
        "  def set_job_title(self, job_title):\n",
        "    self.__job_title=job_title\n",
        "  \n",
        "  def emp_info(self):\n",
        "    print(self.__name, self.__dept, self.__job_title)\n",
        "\n",
        "class Manager (Employee):\n",
        "  def __init__(self,name, dept):\n",
        "    Employee.__init__(self, name, dept, 'manager')\n",
        "  \n",
        "  def cal_annual_salary(self):\n",
        "    return (30685)\n",
        "\n",
        "  def emp_info(self):\n",
        "    Employee.emp_info(self)\n",
        "    print(self.cal_annual_salary())\n",
        "    \n",
        "  \n",
        "\n",
        "m1=Manager('ahmed', 'network')\n",
        "print(m1.emp_info())"
      ],
      "metadata": {
        "colab": {
          "base_uri": "https://localhost:8080/"
        },
        "id": "F5brUWLpk4P1",
        "outputId": "67b99048-ec44-4bad-9f84-092e3048135c"
      },
      "execution_count": null,
      "outputs": [
        {
          "output_type": "stream",
          "name": "stdout",
          "text": [
            "ahmed network manager\n",
            "30685\n",
            "None\n"
          ]
        }
      ]
    },
    {
      "cell_type": "markdown",
      "source": [
        "# <font color=blue> issubclass()\n",
        "- To check the class inheritance use:  **issubclass() **\n",
        "          \n",
        "          issubclass(SubClassName, SuperClassName)\n",
        "\n",
        "- This function returns Boolean True if SubClassName is a subclass of superclass SuperClassName.\n",
        "\n",
        "- The SubClassName class is considered a subclass of itself. \n",
        "\n",
        "- SuperClassName may be a tuple of classes, in which case every entry in SuperClassName will be checked. \n",
        "\n",
        "- In any other case, a TypeError exception is raised.\n"
      ],
      "metadata": {
        "id": "5hKR7Lcu_Fp6"
      }
    },
    {
      "cell_type": "code",
      "source": [
        "class LivingOrganism:\n",
        "  def __init__(self, can_eat, organ_type):\n",
        "    self.set_organ_type(organ_type)\n",
        "    self.set_can_eat(can_eat)\n",
        "\n",
        "\n",
        "  def get_can_eat(self):\n",
        "    return self.__can_eat\n",
        "\n",
        "\n",
        "  def set_can_eat(self, can_eat):\n",
        "    self.__can_eat= can_eat\n",
        "\n",
        "  \n",
        "  def get_organ_type(self):\n",
        "    return self.__organ_type\n",
        "\n",
        "  def set_organ_type(self, organ_type):\n",
        "    self.__organ_type= organ_type\n",
        "\n",
        "\n",
        "class Human (LivingOrganism):\n",
        "  \n",
        "  #def set_name(self, name):\n",
        "   #   self.__name=name\n",
        "  def __init__(self, name):\n",
        "    super().__init__(True, 'human')\n",
        "    self.set_name(name)\n",
        "    \n",
        "\n",
        "  def get_name(self):\n",
        "    return self.__name\n",
        "\n",
        "  def set_name(self, name):\n",
        "      self.__name=name\n",
        "\n",
        "class Employee(Human):\n",
        "  def __init__(self, name, emp_dept):\n",
        "      super().__init__(name)\n",
        "      self.set_emp_dept(emp_dept)\n",
        "\n",
        "  def get_emp_dept(self):\n",
        "       return self.__emp_dept\n",
        "\n",
        "  \n",
        "  def set_emp_dept(self, emp_dept):\n",
        "        self.__emp_dept= emp_dept\n",
        "\n",
        "  def display_info(self):\n",
        "    print(\"From Employee Class: \", self.get_name(), self.get_emp_dept())\n",
        "\n",
        "class Student(Human):\n",
        "  def __init__(self, name, st_dept):\n",
        "    Human.__init__(self, name)\n",
        "    self.set_st_dept(st_dept)\n",
        "\n",
        "\n",
        "  def get_st_dept(self):\n",
        "       return self.__st_dept\n",
        "\n",
        "  def set_st_dept(self, st_dept):\n",
        "        self.__st_dept= st_dept\n",
        "\n",
        "  def display_info(self):\n",
        "    print(\"From Student Class: \", self.get_name(), self.get_st_dept())\n",
        "\n",
        "class PostGraduateStudent(Student, Employee):\n",
        "        def __init__(self, name, st_dept, emp_dept):\n",
        "          Student.__init__(self, name, st_dept)\n",
        "          Employee.__init__(self, name, emp_dept)\n",
        "\n",
        "        \n",
        "se1=PostGraduateStudent('ahmed', 'DS', 'maintenance')\n",
        "print(issubclass(PostGraduateStudent, Employee))\n",
        "print(issubclass(PostGraduateStudent, (Employee, Student)))\n"
      ],
      "metadata": {
        "id": "qkWcUWxnzrEf",
        "colab": {
          "base_uri": "https://localhost:8080/"
        },
        "outputId": "9cc68d58-e91f-4e02-9090-01825313abbd"
      },
      "execution_count": null,
      "outputs": [
        {
          "output_type": "stream",
          "name": "stdout",
          "text": [
            "True\n",
            "True\n"
          ]
        }
      ]
    },
    {
      "cell_type": "markdown",
      "source": [
        "# <font color=reyello> isinstance()"
      ],
      "metadata": {
        "id": "5jbge1RypnR-"
      }
    },
    {
      "cell_type": "code",
      "source": [
        "class LivingOrganism:\n",
        "  def __init__(self, can_eat, organ_type):\n",
        "    self.set_organ_type(organ_type)\n",
        "    self.set_can_eat(can_eat)\n",
        "\n",
        "\n",
        "  def get_can_eat(self):\n",
        "    return self.__can_eat\n",
        "\n",
        "\n",
        "  def set_can_eat(self, can_eat):\n",
        "    self.__can_eat= can_eat\n",
        "\n",
        "  \n",
        "  def get_organ_type(self):\n",
        "    return self.__organ_type\n",
        "\n",
        "  def set_organ_type(self, organ_type):\n",
        "    self.__organ_type= organ_type\n",
        "\n",
        "\n",
        "class Human (LivingOrganism):\n",
        "  \n",
        "  #def set_name(self, name):\n",
        "   #   self.__name=name\n",
        "  def __init__(self, name):\n",
        "    super().__init__(True, 'human')\n",
        "    self.set_name(name)\n",
        "    \n",
        "\n",
        "  def get_name(self):\n",
        "    return self.__name\n",
        "\n",
        "  def set_name(self, name):\n",
        "      self.__name=name\n",
        "\n",
        "class Employee(Human):\n",
        "  def __init__(self, name, emp_dept):\n",
        "      super().__init__(name)\n",
        "      self.set_emp_dept(emp_dept)\n",
        "\n",
        "  def get_emp_dept(self):\n",
        "       return self.__emp_dept\n",
        "\n",
        "  \n",
        "  def set_emp_dept(self, emp_dept):\n",
        "        self.__emp_dept= emp_dept\n",
        "\n",
        "  def display_info(self):\n",
        "    print(\"From Employee Class: \", self.get_name(), self.get_emp_dept())\n",
        "\n",
        "class Student(Human):\n",
        "  def __init__(self, name, st_dept):\n",
        "    Human.__init__(self, name)\n",
        "    self.set_st_dept(st_dept)\n",
        "\n",
        "\n",
        "  def get_st_dept(self):\n",
        "       return self.__st_dept\n",
        "\n",
        "  def set_st_dept(self, st_dept):\n",
        "        self.__st_dept= st_dept\n",
        "\n",
        "  def display_info(self):\n",
        "    print(\"From Student Class: \", self.get_name(), self.get_st_dept())\n",
        "\n",
        "class PostGraduateStudent(Student, Employee):\n",
        "        def __init__(self, name, st_dept, emp_dept):\n",
        "          Student.__init__(self, name, st_dept)\n",
        "          Employee.__init__(self, name, emp_dept)\n",
        "\n",
        "        \n",
        "se1=PostGraduateStudent('ahmed', 'DS', 'maintenance')\n",
        "print(isinstance(se1, PostGraduateStudent))\n",
        "print(isinstance(se1, Human))\n"
      ],
      "metadata": {
        "colab": {
          "base_uri": "https://localhost:8080/"
        },
        "id": "MYiA8m9GECUP",
        "outputId": "61a94d32-8564-4649-860c-cee02b733461"
      },
      "execution_count": null,
      "outputs": [
        {
          "output_type": "stream",
          "name": "stdout",
          "text": [
            "True\n",
            "True\n"
          ]
        }
      ]
    },
    {
      "cell_type": "markdown",
      "source": [
        "# <font color=reyello>Example: Trace the following program\n"
      ],
      "metadata": {
        "id": "TWEgUxNGGFmj"
      }
    },
    {
      "cell_type": "code",
      "source": [
        "import math\n",
        "class Shape:\n",
        "    def area(self):\n",
        "        pass\n",
        "    def perimeter(self):\n",
        "        pass\n",
        "\n",
        "\n",
        "###\n",
        "class Rectangle(Shape):\n",
        "    def __init__(self, width, height):\n",
        "            self.width = width\n",
        "            self.height = height\n",
        "\n",
        "    def area(self):\n",
        "         print(f\"Area of Rectangle is {self.width * self.height}\")\n",
        "\n",
        "    def perimeter(self):\n",
        "        print(f\"Perimeter of Rectangle is {2 * (self.width + self.height)}\")\n",
        "\n",
        "\n",
        "\n",
        "###\n",
        "class Circle(Shape):\n",
        "    def __init__(self, radius):\n",
        "        self.radius = radius\n",
        "\n",
        "    def area(self):\n",
        "        print(f\"Area of Circle is {math.pi * self.radius ** 2}\")\n",
        "\n",
        "    def perimeter(self):\n",
        "        print(f\"Perimeter of Circle is {2 * math.pi * self.radius}\")\n",
        "\n",
        "\n",
        "###\n",
        "def shape_type(shape_obj):\n",
        "    shape_obj.area()\n",
        "    shape_obj.perimeter()\n",
        "\n",
        "def main():\n",
        "    rectangle_obj = Rectangle(10, 20)\n",
        "    circle_obj = Circle(10)\n",
        "    for each_obj in [rectangle_obj, circle_obj]:\n",
        "        shape_type(each_obj)\n",
        "main()"
      ],
      "metadata": {
        "colab": {
          "base_uri": "https://localhost:8080/"
        },
        "id": "OCZ9937NF8N2",
        "outputId": "a5b7c334-5df3-4e83-edb4-9257f521b4cd"
      },
      "execution_count": null,
      "outputs": [
        {
          "output_type": "stream",
          "name": "stdout",
          "text": [
            "Area of Rectangle is 200\n",
            "Perimeter of Rectangle is 60\n",
            "Area of Circle is 314.1592653589793\n",
            "Perimeter of Circle is 62.83185307179586\n"
          ]
        }
      ]
    },
    {
      "cell_type": "markdown",
      "metadata": {
        "id": "nq7KvnsszBgW"
      },
      "source": [
        "# <font color=red> Example on overload methods"
      ]
    },
    {
      "cell_type": "code",
      "source": [
        "class Person:\n",
        "       \n",
        "    def __init__(self, myname, myage, *myaddress):\n",
        "        self.set_name(myname)\n",
        "        self.set_age(myage)\n",
        "        self.set_address(*myaddress)\n",
        "       \n",
        "    def get_name(self):\n",
        "        return self.__name\n",
        "  \n",
        "    def get_age(self):\n",
        "        return self.__age\n",
        "\n",
        "    def get_address(self):\n",
        "        return self.__address\n",
        "   \n",
        "    def set_name(self, name):\n",
        "        self.__name=name\n",
        "        \n",
        "   \n",
        "    def set_age(self, age):\n",
        "        self.__age=age\n",
        "     \n",
        "    def set_address(self, *myaddress):\n",
        "        self.__address=\"\"\n",
        "        for address in myaddress:\n",
        "           address+=\", \"\n",
        "        self.__address= self.__address + address\n",
        "   \n",
        "\n",
        "p1=Person(\"ahmed\", 23, \"Giza\")\n",
        "print(p1.get_address())\n",
        "p2=Person(\"mohammed\", 24, \"Giza\", \"Ahmed Zewail st.\")\n",
        "print(p2.get_address())\n",
        "p3=Person(\"mahmoud\", 25, \"Giza\", \"Ahmed Zewail st.\", \"Cairo Uni.\")\n",
        "print(p3.get_address())"
      ],
      "metadata": {
        "colab": {
          "base_uri": "https://localhost:8080/"
        },
        "id": "YRbAwBk4GL3H",
        "outputId": "8fac9e64-481e-45b3-b0fb-bb49fc4d2e6f"
      },
      "execution_count": null,
      "outputs": [
        {
          "output_type": "stream",
          "name": "stdout",
          "text": [
            "Giza, \n",
            "Ahmed Zewail st., \n",
            "Cairo Uni., \n"
          ]
        }
      ]
    },
    {
      "cell_type": "markdown",
      "source": [
        "# <font color=reyellow> Example: Trace the following Program"
      ],
      "metadata": {
        "id": "_HRAammuHbsT"
      }
    },
    {
      "cell_type": "code",
      "source": [
        "class Person:\n",
        "       \n",
        "    def __init__(self, myname, myage, *myaddress):\n",
        "        self.set_name(myname)\n",
        "        self.set_age(myage)\n",
        "        self.set_address(*myaddress)\n",
        "       \n",
        "\n",
        "\n",
        "  \n",
        "    def get_name(self):\n",
        "        return self.__name\n",
        "  \n",
        "    def get_age(self):\n",
        "        return self.__age\n",
        "\n",
        "    def get_address(self):\n",
        "        return self.__address\n",
        "    \n",
        "\n",
        "   \n",
        "    def set_name(self, name):\n",
        "        self.__name=name\n",
        "        \n",
        "   \n",
        "    def set_age(self, age):\n",
        "        self.__age=age\n",
        "     \n",
        "    def set_address(self, *myaddress):\n",
        "        self.__address=\"\"\n",
        "        for address in myaddress:\n",
        "           address+=\", \"\n",
        "        self.__address= self.__address + address\n",
        "   \n",
        "\n",
        "    def __str__(self):\n",
        "        return f\"your name is {self.get_name()}. your age is {self.get_age()} and lives in {self.get_address()}\"\n",
        "\n",
        "\n",
        "\n",
        "\n",
        "\n",
        "\n",
        "p1=Person(\"ahmed\", 23, \"Giza\")\n",
        "print(p1)\n",
        "p2=Person(\"mohammed\", 24, \"Giza\", \"Ahmed Zewail st.\")\n",
        "print(p2)\n",
        "p3=Person(\"mahmoud\", 25, \"Giza\", \"Ahmed Zewail st.\", \"Cairo Uni.\")\n",
        "print(p3)"
      ],
      "metadata": {
        "colab": {
          "base_uri": "https://localhost:8080/"
        },
        "id": "FWA-aHrkGwAh",
        "outputId": "11bdd012-57f7-4578-bcb5-d1f85cc81ae5"
      },
      "execution_count": null,
      "outputs": [
        {
          "output_type": "stream",
          "name": "stdout",
          "text": [
            "your name is ahmed. your age is 23 and lives in Giza, \n",
            "your name is mohammed. your age is 24 and lives in Ahmed Zewail st., \n",
            "your name is mahmoud. your age is 25 and lives in Cairo Uni., \n"
          ]
        }
      ]
    }
  ]
}